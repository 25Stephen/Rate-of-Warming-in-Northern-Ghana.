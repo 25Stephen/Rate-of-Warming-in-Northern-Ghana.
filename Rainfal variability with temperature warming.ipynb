{
 "cells": [
  {
   "cell_type": "code",
   "execution_count": 1,
   "id": "b8cd80b8-2d85-4cf7-b8f7-63a7453e99f5",
   "metadata": {},
   "outputs": [],
   "source": [
    "######  Import required libraries #########\n",
    "import cartopy.crs as ccrs\n",
    "import cartopy.feature as cf\n",
    "from cartopy.mpl.ticker import LongitudeFormatter, LatitudeFormatter\n",
    "import pandas as pd\n",
    "from pathlib import Path as Path\n",
    "import seaborn as sns\n",
    "import matplotlib.pyplot as plt\n",
    "import numpy as np\n",
    "import pymannkendall as mk\n",
    "import numpy as np\n",
    "from matplotlib import gridspec\n",
    "import os\n",
    "import glob\n",
    "import dataframe_image as dfi\n",
    "import warnings\n",
    "warnings.filterwarnings('ignore')"
   ]
  },
  {
   "cell_type": "code",
   "execution_count": 2,
   "id": "5d42640b-2213-4e3f-9069-18a0224f0861",
   "metadata": {},
   "outputs": [],
   "source": [
    "#### Specify Path of data and Assign libraries ####\n",
    "\n",
    "# Path1=Path('/media/kenz/DISK/Data for publications/')\n",
    "Path2=Path('/media/kenz/DISK/Data for publications/Data')\n",
    "\n",
    "########### Read in Rainfall data ############\n",
    "Yendi_RR =pd.read_fwf(Path2/'Yendi_1960_2020_mmRR_cgf.txt', names=['Year','Month','Rainfall'])\n",
    "Bole_RR =pd.read_fwf(Path2/'Bole_1960_2020_mmRR_cgf.txt', names=['Year','Month','Rainfall'])\n",
    "Navrongo_RR =pd.read_fwf(Path2/'Navrongo_1960_2020_mmRR_cgf.txt', names=['Year','Month','Rainfall'])\n",
    "Tamale_RR =pd.read_fwf(Path2/'Tamale_1960_2020_mmRR_cgf.txt', names=['Year','Month','Rainfall'])\n",
    "Wa_RR =pd.read_fwf(Path2/'Wa_1960_2020_mmRR_cgf.txt', names=['Year','Month','Rainfall'])\n",
    "Walewale_RR =pd.read_fwf(Path2/'Walewale_1960_2020_mmRR_cgf.txt', names=['Year','Month','Rainfall'])\n",
    "Zuarungu_RR =pd.read_fwf(Path2/'Zuarungu_1960_2020_mmRR_cgf.txt', names=['Year','Month','Rainfall'])\n",
    "\n",
    "\n",
    "\n",
    "########### Read in Temperature Data #############\n",
    "Yendi_Tx=pd.read_fwf(Path2/'Yendi_1960_2020_mmTx_cgf.txt', names=['Year','Month','Temperature'])\n",
    "Yendi_Tn=pd.read_fwf(Path2/'Yendi_1960_2020_mmTn_cgf.txt', names=['Year','Month','Temperature'])\n",
    "Yendi_Tm=pd.read_fwf(Path2/'Yendi_1960_2020_mmTm_cgf.txt', names=['Year','Month','Temperature'])\n",
    "\n",
    "Bole_Tx=pd.read_fwf(Path2/'Bole_1960_2020_mmTx_cgf.txt', names=['Year','Month','Temperature'])\n",
    "Bole_Tn=pd.read_fwf(Path2/'Bole_1960_2020_mmTn_cgf.txt', names=['Year','Month','Temperature'])\n",
    "Bole_Tm=pd.read_fwf(Path2/'Bole_1960_2020_mmTm_cgf.txt', names=['Year','Month','Temperature'])\n",
    "\n",
    "Navrongo_Tx=pd.read_fwf(Path2/'Navrongo_1960_2020_mmTx_cgf.txt', names=['Year','Month','Temperature'])\n",
    "Navrongo_Tn=pd.read_fwf(Path2/'Navrongo_1960_2020_mmTn_cgf.txt', names=['Year','Month','Temperature'])\n",
    "Navrongo_Tm=pd.read_fwf(Path2/'Navrongo_1960_2020_mmTm_cgf.txt', names=['Year','Month','Temperature'])\n",
    "\n",
    "Tamale_Tx=pd.read_fwf(Path2/'Tamale_1960_2020_mmTx_cgf.txt', names=['Year','Month','Temperature'])\n",
    "Tamale_Tn=pd.read_fwf(Path2/'Tamale_1960_2020_mmTn_cgf.txt', names=['Year','Month','Temperature'])\n",
    "Tamale_Tm=pd.read_fwf(Path2/'Tamale_1960_2020_mmTm_cgf.txt', names=['Year','Month','Temperature'])\n",
    "\n",
    "Wa_Tx=pd.read_fwf(Path2/'Wa_1960_2020_mmTx_cgf.txt', names=['Year','Month','Temperature'])\n",
    "Wa_Tn=pd.read_fwf(Path2/'Wa_1960_2020_mmTn_cgf.txt', names=['Year','Month','Temperature'])\n",
    "Wa_Tm=pd.read_fwf(Path2/'Wa_1960_2020_mmTm_cgf.txt', names=['Year','Month','Temperature'])\n",
    "\n",
    "Walewale_Tx=pd.read_fwf(Path2/'Walewale_1960_2020_mmTx_cgf.txt', names=['Year','Month','Temperature'])\n",
    "Walewale_Tn=pd.read_fwf(Path2/'Walewale_1960_2020_mmTn_cgf.txt', names=['Year','Month','Temperature'])\n",
    "Walewale_Tm=pd.read_fwf(Path2/'Walewale_1960_2020_mmTm_cgf.txt', names=['Year','Month','Temperature'])\n",
    "\n",
    "Zuarungu_Tx=pd.read_fwf(Path2/'Zuarungu_1960_2020_mmTx_cgf.txt', names=['Year','Month','Temperature'])\n",
    "Zuarungu_Tn=pd.read_fwf(Path2/'Zuarungu_1960_2020_mmTn_cgf.txt', names=['Year','Month','Temperature'])\n",
    "Zuarungu_Tm=pd.read_fwf(Path2/'Zuarungu_1960_2020_mmTm_cgf.txt', names=['Year','Month','Temperature'])\n"
   ]
  },
  {
   "cell_type": "markdown",
   "id": "de0bc030-141c-46a4-953c-4075163432d1",
   "metadata": {},
   "source": [
    "### Study Area"
   ]
  },
  {
   "cell_type": "markdown",
   "id": "3647e100-30f3-4397-80ae-aeedfb26b737",
   "metadata": {},
   "source": [
    "#### Specifying Borders"
   ]
  },
  {
   "cell_type": "code",
   "execution_count": 3,
   "id": "c31bd474-a8d3-4ab8-8976-331616e4ea25",
   "metadata": {},
   "outputs": [],
   "source": [
    "import cartopy.crs as ccrs\n",
    "import matplotlib.pyplot as plt\n",
    "\n",
    "crs = ccrs.PlateCarree()\n",
    "\n",
    "import itertools\n",
    "import matplotlib.patheffects as pe\n",
    "import numpy as np\n",
    "\n",
    "def add_zebra_frame(ax, lw=4, crs=\"pcarree\", zorder=None):\n",
    "\n",
    "    ax.spines[\"geo\"].set_visible(False)\n",
    "    left, right, bot, top = ax.get_extent()\n",
    "    \n",
    "    # Alternate black and white line segments\n",
    "    bws = itertools.cycle([\"k\", \"white\"])\n",
    "\n",
    "    xticks = sorted([left, *ax.get_xticks(), right])\n",
    "    xticks = np.unique(np.array(xticks))\n",
    "    yticks = sorted([bot, *ax.get_yticks(), top])\n",
    "    yticks = np.unique(np.array(yticks))\n",
    "    for ticks, which in zip([xticks, yticks], [\"lon\", \"lat\"]):\n",
    "        for idx, (start, end) in enumerate(zip(ticks, ticks[1:])):\n",
    "            bw = next(bws)\n",
    "            if which == \"lon\":\n",
    "                xs = [[start, end], [start, end]]\n",
    "                ys = [[bot, bot], [top, top]]\n",
    "            else:\n",
    "                xs = [[left, left], [right, right]]\n",
    "                ys = [[start, end], [start, end]]\n",
    "\n",
    "            # For first and lastlines, used the \"projecting\" effect\n",
    "            capstyle = \"butt\" if idx not in (0, len(ticks) - 2) else \"projecting\"\n",
    "            for (xx, yy) in zip(xs, ys):\n",
    "                ax.plot(\n",
    "                    xx,\n",
    "                    yy,\n",
    "                    color=bw,\n",
    "                    linewidth=lw,\n",
    "                    clip_on=False,\n",
    "                    transform=crs,\n",
    "                    zorder=zorder,\n",
    "                    solid_capstyle=capstyle,\n",
    "                    # Add a black border to accentuate white segments\n",
    "                    path_effects=[\n",
    "                        pe.Stroke(linewidth=lw + 1, foreground=\"black\"),\n",
    "                        pe.Normal(),\n",
    "                    ],\n",
    "                )\n"
   ]
  },
  {
   "cell_type": "code",
   "execution_count": 4,
   "id": "943bd24e-9a02-4565-bf5f-870fa73e60ba",
   "metadata": {},
   "outputs": [
    {
     "data": {
      "image/png": "[encoded data removed]",
      "text/plain": [
       "<Figure size 720x648 with 1 Axes>"
      ]
     },
     "metadata": {
      "needs_background": "light"
     },
     "output_type": "display_data"
    }
   ],
   "source": [
    " ################## Reading data for Stations  ###############\n",
    "    \n",
    "dat = pd.read_fwf(Path2/'GMet_location_avgSI.txt', names = ['Station', 'Longitude', 'Latitude', 'St'])  ###\n",
    "\n",
    "#####################  Plot for  study Area ###########################\n",
    "plt.figure(figsize=(10,9))                         ###### Specifying the size of the figure\n",
    "ax = plt.axes(projection = ccrs.PlateCarree())       ###### Specifying the type of geopatial plot\n",
    "ax.add_feature(cf.COASTLINE,alpha=0.8)             \n",
    "ax.add_feature(cf.BORDERS)\n",
    "#ax.add_feature(cf.LAND)\n",
    "ax.set_extent([-3.2,0.8,11.2,9.5])                   #### setting the map boundaries\n",
    "#ax.stock_img()\n",
    "ax.add_feature(cf.STATES, alpha= 0.1)               ####  adding territorial boundaries\n",
    "\n",
    "ax.plot(dat.Longitude,                            \n",
    "        dat.Latitude, \n",
    "        'ro',                                       ##### plotting the longitudes and latitudes of the station\n",
    "        ms=7, \n",
    "        color = 'k')#,\n",
    "        #transform=ccrs.Geodetic(),label='Synoptic stations')  \n",
    "\n",
    "s_stations = np.asarray(dat.Station)\n",
    "                          \n",
    "for longitude, latitude, name in zip(dat.Longitude, dat.Latitude, s_stations):\n",
    "    if name in ['Zuarungu', 'Walewale', 'Wa', 'Bole', 'Tamale', 'Yendi']:\n",
    "        ax.text(longitude - .05, latitude - .15, \n",
    "                name, \n",
    "                va='center',\n",
    "                ha='center', transform=ccrs.Geodetic(), fontweight='bold',fontsize = '15')\n",
    "    if name in ['Navrongo']:\n",
    "        ax.text(longitude - 0.4, latitude, \n",
    "                name, \n",
    "                va='center',\n",
    "                ha='center', transform=ccrs.Geodetic(), fontweight='bold',fontsize = '15')\n",
    "#     else:    \n",
    "#         ax.text(longitude + .05, latitude + .12, \n",
    "#                 name, \n",
    "#                 va='center',\n",
    "#                 ha='center', transform=ccrs.Geodetic(), fontweight='bold',fontsize = '10')\n",
    "\n",
    "\n",
    "ax.set_xticks([-3,-2.0,-1.0,0,0.8], crs=ccrs.PlateCarree())\n",
    "ax.set_yticks([11,10,9,8.5], crs=ccrs.PlateCarree())\n",
    "lon_formatter = LongitudeFormatter(zero_direction_label=True)\n",
    "lat_formatter = LatitudeFormatter()\n",
    "ax.xaxis.set_major_formatter(lon_formatter)\n",
    "ax.yaxis.set_major_formatter(lat_formatter)\n",
    "add_zebra_frame(ax, lw=4, crs=crs)\n",
    "\n",
    "\n",
    "# #plt.savefig('Synoptic Stations.pdf',bbox_inches = 'tight')\n",
    "# plt.savefig('Graphs/graphs/Study_Area.JPEG',bbox_inches = 'tight')"
   ]
  },
  {
   "cell_type": "code",
   "execution_count": null,
   "id": "5fdaab6d-2dab-4f32-880c-117266fd74be",
   "metadata": {},
   "outputs": [],
   "source": []
  },
  {
   "cell_type": "code",
   "execution_count": 2,
   "id": "b7229f1b-f548-4580-abf5-ea9a29f8d4e4",
   "metadata": {
    "tags": []
   },
   "outputs": [],
   "source": [
    "# Define relative path to folder containing the text files\n",
    "# ###Path2=Path('/media/kenz/DISK/Data for publications/Data')\n",
    "import os, glob\n",
    "files_folder = \"/media/kenz/DISK/Data for publications/stephen_DClimdata\"\n",
    "files = []\n",
    "\n",
    "# Create a dataframe list by using a list comprehensioncc\n",
    "\n",
    "files = [pd.read_fwf(file, \n",
    "                     names=['Year','Month','Rainfall'] ) for file in glob.glob(os.path.join(files_folder ,\"*dTx_sgf.txt\"))]\n"
   ]
  },
  {
   "cell_type": "code",
   "execution_count": 3,
   "id": "8ced1376-fe52-4619-a814-c6db742e2439",
   "metadata": {},
   "outputs": [
    {
     "data": {
      "text/plain": [
       "[      Year  Month  Rainfall\n",
       " 1960     1      1     32.80\n",
       " 1960     1      2     31.70\n",
       " 1960     1      3     32.80\n",
       " 1960     1      4     33.90\n",
       " 1960     1      5     35.00\n",
       " ...    ...    ...       ...\n",
       " 2020    12     27     33.31\n",
       " 2020    12     28     33.65\n",
       " 2020    12     29     33.24\n",
       " 2020    12     30     34.71\n",
       " 2020    12     31     35.05\n",
       " \n",
       " [22281 rows x 3 columns],\n",
       "       Year  Month  Rainfall\n",
       " 1960     1      1     32.20\n",
       " 1960     1      2     32.20\n",
       " 1960     1      3     32.80\n",
       " 1960     1      4     33.30\n",
       " 1960     1      5     34.40\n",
       " ...    ...    ...       ...\n",
       " 2020    12     27     33.45\n",
       " 2020    12     28     33.85\n",
       " 2020    12     29     33.07\n",
       " 2020    12     30     34.79\n",
       " 2020    12     31     35.22\n",
       " \n",
       " [22281 rows x 3 columns],\n",
       "       Year  Month  Rainfall\n",
       " 1960     1      1     32.98\n",
       " 1960     1      2     32.60\n",
       " 1960     1      3     33.64\n",
       " 1960     1      4     34.68\n",
       " 1960     1      5     36.04\n",
       " ...    ...    ...       ...\n",
       " 2020    12     27     34.03\n",
       " 2020    12     28     34.11\n",
       " 2020    12     29     33.88\n",
       " 2020    12     30     35.21\n",
       " 2020    12     31     35.21\n",
       " \n",
       " [22281 rows x 3 columns],\n",
       "       Year  Month  Rainfall\n",
       " 1960     1      1     33.90\n",
       " 1960     1      2     32.80\n",
       " 1960     1      3     33.30\n",
       " 1960     1      4     34.40\n",
       " 1960     1      5     35.60\n",
       " ...    ...    ...       ...\n",
       " 2020    12     27     33.94\n",
       " 2020    12     28     34.08\n",
       " 2020    12     29     33.82\n",
       " 2020    12     30     34.94\n",
       " 2020    12     31     35.12\n",
       " \n",
       " [22281 rows x 3 columns],\n",
       "       Year  Month  Rainfall\n",
       " 1960     1      1     32.80\n",
       " 1960     1      2     32.20\n",
       " 1960     1      3     33.30\n",
       " 1960     1      4     33.90\n",
       " 1960     1      5     35.60\n",
       " ...    ...    ...       ...\n",
       " 2020    12     27     33.58\n",
       " 2020    12     28     33.84\n",
       " 2020    12     29     33.85\n",
       " 2020    12     30     35.06\n",
       " 2020    12     31     35.46\n",
       " \n",
       " [22281 rows x 3 columns],\n",
       "       Year  Month  Rainfall\n",
       " 1960     1      1     33.47\n",
       " 1960     1      2     32.83\n",
       " 1960     1      3     33.69\n",
       " 1960     1      4     34.08\n",
       " 1960     1      5     35.35\n",
       " ...    ...    ...       ...\n",
       " 2020    12     27     34.86\n",
       " 2020    12     28     34.59\n",
       " 2020    12     29     34.43\n",
       " 2020    12     30     35.41\n",
       " 2020    12     31     35.65\n",
       " \n",
       " [22281 rows x 3 columns],\n",
       "       Year  Month  Rainfall\n",
       " 1960     1      1     32.20\n",
       " 1960     1      2     32.20\n",
       " 1960     1      3     31.70\n",
       " 1960     1      4     32.80\n",
       " 1960     1      5     34.40\n",
       " ...    ...    ...       ...\n",
       " 2020    12     27     33.28\n",
       " 2020    12     28     33.51\n",
       " 2020    12     29     32.74\n",
       " 2020    12     30     34.09\n",
       " 2020    12     31     34.57\n",
       " \n",
       " [22281 rows x 3 columns]]"
      ]
     },
     "execution_count": 3,
     "metadata": {},
     "output_type": "execute_result"
    }
   ],
   "source": [
    "files"
   ]
  },
  {
   "cell_type": "code",
   "execution_count": 5,
   "id": "9ffafddd-8ed7-46c3-94a6-38e7a61b0c2d",
   "metadata": {},
   "outputs": [],
   "source": [
    "Navrongo_sgf = pd.read_fwf(\"/media/kenz/DISK/Data for publications/stephen_DClimdata/Navrongo_1960_2020_dRR_sgf.txt\", names = ['Year', 'Month','Day','RR'])\n",
    "Zuarungu_sgf = pd.read_fwf(\"/media/kenz/DISK/Data for publications/stephen_DClimdata/Zuarungu_1960_2020_dRR_sgf.txt\", names = ['Year', 'Month','Day','RR'])\n",
    "Walewale_sgf = pd.read_fwf(\"/media/kenz/DISK/Data for publications/stephen_DClimdata/Walewale_1960_2020_dRR_sgf.txt\", names = ['Year', 'Month','Day','RR'])\n",
    "Wa_sgf = pd.read_fwf(\"/media/kenz/DISK/Data for publications/stephen_DClimdata/Wa_1960_2020_dRR_sgf.txt\", names = ['Year', 'Month','Day','RR'])\n",
    "Tamale_sgf = pd.read_fwf(\"/media/kenz/DISK/Data for publications/stephen_DClimdata/Tamale_1960_2020_dRR_sgf.txt\", names = ['Year', 'Month','Day','RR'])\n",
    "Yendi_sgf = pd.read_fwf(\"/media/kenz/DISK/Data for publications/stephen_DClimdata/Yendi_1960_2020_dRR_sgf.txt\", names = ['Year', 'Month','Day','RR'])\n",
    "Bole_sgf = pd.read_fwf(\"/media/kenz/DISK/Data for publications/stephen_DClimdata/Bole_1960_2020_dRR_sgf.txt\", names = ['Year', 'Month','Day','RR'])\n",
    "\n",
    "Navrongo__sgf_tx = pd.read_fwf(\"/media/kenz/DISK/Data for publications/stephen_DClimdata/Navrongo_1960_2020_dTx_sgf.txt\", names = ['Year', 'Month','Day','TX'])\n",
    "Zuarungu_sgf_tx = pd.read_fwf(\"/media/kenz/DISK/Data for publications/stephen_DClimdata/Zuarungu_1960_2020_dTx_sgf.txt\", names = ['Year', 'Month','Day','TX'])\n",
    "Walewale_sgf_tx = pd.read_fwf(\"/media/kenz/DISK/Data for publications/stephen_DClimdata/Walewale_1960_2020_dTx_sgf.txt\", names = ['Year', 'Month','Day','TX'])\n",
    "Wa_sgf_tx = pd.read_fwf(\"/media/kenz/DISK/Data for publications/stephen_DClimdata/Wa_1960_2020_dTx_sgf.txt\", names = ['Year', 'Month','Day','TX'])\n",
    "Tamale_sgf_tx = pd.read_fwf(\"/media/kenz/DISK/Data for publications/stephen_DClimdata/Tamale_1960_2020_dTx_sgf.txt\", names = ['Year', 'Month','Day','TX'])\n",
    "Yendi_sgf_tx = pd.read_fwf(\"/media/kenz/DISK/Data for publications/stephen_DClimdata/Yendi_1960_2020_dTx_sgf.txt\", names = ['Year', 'Month','Day','TX'])\n",
    "Bole_sgf_tx = pd.read_fwf(\"/media/kenz/DISK/Data for publications/stephen_DClimdata/Bole_1960_2020_dTx_sgf.txt\", names = ['Year', 'Month','Day','TX'])\n",
    "\n",
    "Navrongo__sgf_tn = pd.read_fwf(\"/media/kenz/DISK/Data for publications/stephen_DClimdata/Navrongo_1960_2020_dTn_sgf.txt\", names = ['Year', 'Month','Day','TN'])\n",
    "Zuarungu_sgf_tn = pd.read_fwf(\"/media/kenz/DISK/Data for publications/stephen_DClimdata/Zuarungu_1960_2020_dTn_sgf.txt\", names = ['Year', 'Month','Day','TN'])\n",
    "Walewale_sgf_tn = pd.read_fwf(\"/media/kenz/DISK/Data for publications/stephen_DClimdata/Walewale_1960_2020_dTn_sgf.txt\", names = ['Year', 'Month','Day','TN'])\n",
    "Wa_sgf_tn = pd.read_fwf(\"/media/kenz/DISK/Data for publications/stephen_DClimdata/Wa_1960_2020_dTn_sgf.txt\", names = ['Year', 'Month','Day','TN'])\n",
    "Tamale_sgf_tn = pd.read_fwf(\"/media/kenz/DISK/Data for publications/stephen_DClimdata/Tamale_1960_2020_dTn_sgf.txt\", names = ['Year', 'Month','Day','TN'])\n",
    "Yendi_sgf_tn = pd.read_fwf(\"/media/kenz/DISK/Data for publications/stephen_DClimdata/Yendi_1960_2020_dTn_sgf.txt\", names = ['Year', 'Month','Day','TN'])\n",
    "Bole_sgf_tn = pd.read_fwf(\"/media/kenz/DISK/Data for publications/stephen_DClimdata/Bole_1960_2020_dTn_sgf.txt\", names = ['Year', 'Month','Day','TN'])\n"
   ]
  },
  {
   "cell_type": "code",
   "execution_count": null,
   "id": "544e9373-e5e5-425b-8ab2-307e910c5f81",
   "metadata": {},
   "outputs": [],
   "source": []
  },
  {
   "cell_type": "code",
   "execution_count": null,
   "id": "2555c71d-42a5-44ea-a06a-a537da69527c",
   "metadata": {},
   "outputs": [],
   "source": [
    "#file1.query('TX == 9.9').count()"
   ]
  },
  {
   "cell_type": "code",
   "execution_count": null,
   "id": "8e4bbcdb-f164-4375-8e29-8a569675bef9",
   "metadata": {},
   "outputs": [],
   "source": [
    "def per_data(x,z):\n",
    "    return 100 - round((len(x[x[z] == 9.9])/len(x))*100,2)"
   ]
  },
  {
   "cell_type": "code",
   "execution_count": null,
   "id": "cb95691c-9dfe-426c-a710-c2aad879a019",
   "metadata": {},
   "outputs": [],
   "source": [
    "per_data(file1, 'RR')"
   ]
  },
  {
   "cell_type": "code",
   "execution_count": null,
   "id": "3e6e257a-e975-4f96-8282-649c07bc7f98",
   "metadata": {},
   "outputs": [],
   "source": [
    "data = {'RR' : [per_data(Navrongo_sgf,'RR'), per_data(Zuarungu_sgf,'RR'), per_data(Walewale_sgf,'RR'), per_data(Wa_sgf,'RR'), per_data(Tamale_sgf,'RR'), per_data(Yendi_sgf,'RR'), per_data(Bole_sgf,'RR')],\n",
    "        'TX' : [per_data(Navrongo__sgf_tx,'TX'), per_data(Zuarungu_sgf_tx,'TX'), per_data(Walewale_sgf_tx,'TX'), per_data(Walewale_sgf_tx,'TX'), per_data(Tamale_sgf_tx,'TX'), per_data(Yendi_sgf_tx,'TX'), per_data(Bole_sgf_tx,'TX')],\n",
    "        'TN' : [per_data(Navrongo__sgf_tn,'TN'), per_data(Zuarungu_sgf_tn,'TN'), per_data(Walewale_sgf_tn,'TN'), per_data(Wa_sgf_tn,'TN'),per_data(Tamale_sgf_tn,'TN') ,per_data(Yendi_sgf_tn,'TN'), per_data(Bole_sgf_tn,'TN')],\n",
    "}\n",
    "ind = ['Navrongo','Zuarungu','Walewale','Wa','Tamale','Yendi','Bole']"
   ]
  },
  {
   "cell_type": "code",
   "execution_count": null,
   "id": "36fad6de-aa51-482b-961b-e7f83f3c48a9",
   "metadata": {},
   "outputs": [],
   "source": [
    "pd.DataFrame(data, index=ind)"
   ]
  },
  {
   "cell_type": "markdown",
   "id": "d4c1b596-2c55-460b-ad90-d7a63278257b",
   "metadata": {},
   "source": [
    "#### Converting sgf data into Rclimdex Format ####"
   ]
  },
  {
   "cell_type": "code",
   "execution_count": 4,
   "id": "8ef60e8a-d586-49df-8787-606b75f9534c",
   "metadata": {},
   "outputs": [],
   "source": [
    "def Rcli_data(RR,TX,TN):\n",
    "    RR.loc[RR['RR'] == 9.9, 'RR']= -99.9\n",
    "    TX.loc[TX['TX'] == 9.9, 'TX']= -99.9\n",
    "    TN.loc[TN['TN'] == 9.9, 'TN']= -99.9\n",
    "    data = pd.DataFrame(RR)\n",
    "    data['TX'] = TX['TX']\n",
    "    data['TN'] = TN['TN']\n",
    "    Station = data\n",
    "    return Station.to_csv('/media/kenz/DISK/Data for publications/Rclim_data/' + str(input()) +'.txt', sep=' ', index=False, header=False)"
   ]
  },
  {
   "cell_type": "code",
   "execution_count": 39,
   "id": "97bb73d7-5a1d-413a-8e00-d0dc91eb3b06",
   "metadata": {},
   "outputs": [],
   "source": [
    "# Rcli_data(Zuarungu_RR,Zuarungu_Tx,Zuarungu_Tn)"
   ]
  },
  {
   "cell_type": "code",
   "execution_count": 7,
   "id": "9bac03c9-92c5-4b7a-981a-cb86bf11db53",
   "metadata": {},
   "outputs": [
    {
     "name": "stdin",
     "output_type": "stream",
     "text": [
      " Walewale\n"
     ]
    }
   ],
   "source": [
    "Rcli_data(Walewale, Walewale_sgf_tx, Walewale_sgf_tn)"
   ]
  },
  {
   "cell_type": "code",
   "execution_count": 8,
   "id": "46ae62e8-99be-4745-ba36-95d59987550e",
   "metadata": {},
   "outputs": [
    {
     "name": "stdin",
     "output_type": "stream",
     "text": [
      " Tamale\n"
     ]
    }
   ],
   "source": [
    "Rcli_data(Tamale_sgf, Tamale_sgf_tx, Tamale_sgf_tn)"
   ]
  },
  {
   "cell_type": "code",
   "execution_count": 11,
   "id": "514b8b15-c8fa-4e10-b6d0-b9311deb7dda",
   "metadata": {},
   "outputs": [
    {
     "name": "stdin",
     "output_type": "stream",
     "text": [
      " Wa\n"
     ]
    }
   ],
   "source": [
    "Rcli_data(Wa_sgf, Wa_sgf_tx, Wa_sgf_tn)"
   ]
  },
  {
   "cell_type": "code",
   "execution_count": 12,
   "id": "50e05335-75e3-4ba0-b2f2-f7090e0c6b77",
   "metadata": {},
   "outputs": [
    {
     "name": "stdin",
     "output_type": "stream",
     "text": [
      " Bole\n"
     ]
    }
   ],
   "source": [
    "Rcli_data(Bole_sgf, Bole_sgf_tx, Bole_sgf_tn)"
   ]
  },
  {
   "cell_type": "code",
   "execution_count": 13,
   "id": "588faf66-6278-47f2-83e7-3e0081681c50",
   "metadata": {},
   "outputs": [
    {
     "name": "stdin",
     "output_type": "stream",
     "text": [
      " Yendi\n"
     ]
    }
   ],
   "source": [
    "Rcli_data(Yendi_sgf, Yendi_sgf_tx, Yendi_sgf_tn)"
   ]
  },
  {
   "cell_type": "code",
   "execution_count": 40,
   "id": "3a52ddd9-2cd0-4995-a7f5-fdf4d2402749",
   "metadata": {},
   "outputs": [
    {
     "name": "stdin",
     "output_type": "stream",
     "text": [
      " Navrongo\n"
     ]
    }
   ],
   "source": [
    "Rcli_data(Navrongo_sgf, Navrongo__sgf_tx, Navrongo__sgf_tn)"
   ]
  },
  {
   "cell_type": "code",
   "execution_count": null,
   "id": "7df355f0-562b-46f3-8871-ee37af572c16",
   "metadata": {},
   "outputs": [],
   "source": []
  },
  {
   "cell_type": "markdown",
   "id": "a69a33e9-b1b1-4a93-9aa3-fc59878c8b0d",
   "metadata": {},
   "source": [
    "#### Monthly Rainfall Values"
   ]
  },
  {
   "cell_type": "code",
   "execution_count": null,
   "id": "9266f98a-10c9-4608-91f1-af5c42ef875c",
   "metadata": {},
   "outputs": [],
   "source": [
    "#### define a funtion to pivot the data. #####################\n",
    "\n",
    "def heatmap_pivot(x,R,index,column):\n",
    "    pivot=pd.pivot_table(x, values= R, index=index, columns=column)\n",
    "    return(pivot)\n",
    "    \n",
    "#################### Plot data #############\n",
    "\n",
    "fig, axes = plt.subplots(nrows = 4, ncols = 2, figsize = (15,14))\n",
    "ax = axes.flatten()\n",
    "# cbar_ax = fig.add_axes([0.09, 0.12, 0.02, 0.7])\n",
    "cbar_ax = fig.add_axes([0.54, 0.13, 0.45, 0.03])\n",
    "fig.delaxes(axes[3][1])\n",
    "RR_all=[Navorngo_RR, Zuarungu_RR, Walewale_RR, Wa_RR, Bole_RR, Tamale_RR, Yendi_RR]\n",
    "RR_all_l=['Navrongo', 'Zuarungu', 'Walewale', 'Wa', 'Bole', 'Tamale', 'Yendi']\n",
    "labels=['JAN', 'FEB', 'MAR', 'APR', 'MAY', 'JUN', 'JUL', 'AUG', 'SEP', 'OCT', 'NOV','DEC']\n",
    "\n",
    "for i in range(len(RR_all)):\n",
    "    sns.heatmap(heatmap_pivot(RR_all[i], 'Rainfall', ['Month'], 'Year'), ax=ax[i], cmap='coolwarm', vmax=450, \n",
    "                cbar_ax=cbar_ax, cbar_kws={'label': 'Monthly Rainfall [ mm / month]', 'orientation': 'horizontal'})\n",
    "    ax[i].invert_yaxis()\n",
    "    ax[i].set_yticklabels(labels, rotation=45)\n",
    "    ax[i].set_title(RR_all_l[i])\n",
    "plt.suptitle('Monthly Rainfall 1980-2020', fontsize=20)\n",
    "fig.tight_layout()\n",
    "plt.savefig('Graphs/graphs/Monthly Rainfall.JPEG')"
   ]
  },
  {
   "cell_type": "markdown",
   "id": "a4ed9d8c-3bdd-4cdb-95b4-985d6676c0a3",
   "metadata": {},
   "source": [
    "#### Coefficient of Variation"
   ]
  },
  {
   "cell_type": "code",
   "execution_count": null,
   "id": "40f87405-3119-4482-9b85-5690c67fc52d",
   "metadata": {},
   "outputs": [],
   "source": [
    "def Cof_V(a):\n",
    "    CV=pd.DataFrame()\n",
    "    RR_data= a.groupby('Month').mean('rainfall')\n",
    "    std_cv=np.std(a.Rainfall)\n",
    "    # g=f'{Yendi_RR=}'.split('=')[0]+' CV'\n",
    "    CV['CV']=std_cv/RR_data['Rainfall']\n",
    "    # CV.append(pt)\n",
    "    return(CV)\n",
    "\n",
    "# def Cof_V2(a):\n",
    "#     CV1=pd.DataFrame()\n",
    "#     RR = a.loc[0:371,:]\n",
    "#     RR_data= RR.groupby('Month').mean('rainfall')\n",
    "#     std_cv=np.std(RR.Rainfall)\n",
    "#     # g=f'{Yendi_RR=}'.split('=')[0]+' CV'\n",
    "#     CV1['CV']=std_cv/RR_data['Rainfall']\n",
    "#     # CV.append(pt)\n",
    "#     return(CV1)\n",
    "\n",
    "# def Cof_V3(a):\n",
    "#     CV2=pd.DataFrame()\n",
    "#     RR = a.loc[372:,:]\n",
    "#     RR_data= RR.groupby('Month').mean('rainfall')\n",
    "#     std_cv=np.std(RR.Rainfall)\n",
    "#     # g=f'{Yendi_RR=}'.split('=')[0]+' CV'\n",
    "#     CV2['CV']=std_cv/RR_data['Rainfall']\n",
    "#     # CV.append(pt)\n",
    "#     return(CV2)\n",
    "\n",
    "li=[]\n",
    "for i in range(len(RR_all)):\n",
    "    vv=Cof_V(RR_all[i])\n",
    "    li.append(vv)\n",
    "\n",
    "l=pd.DataFrame(li[0])\n",
    "l['Zuarungu']=li[1]\n",
    "l['Walewale']=li[2]\n",
    "l['Wa']=li[3]\n",
    "l['Bole']=li[4]\n",
    "l['Tamale']=li[5]\n",
    "l['Yendi']=li[6]\n",
    "CV_list=l.rename(columns={'CV':'Navrongo'})\n",
    "# columns=[('', 'Navrongo'), ('', 'Zuarungu'), \n",
    "#          ('', 'Walewale'), \n",
    "#          ('','Wa' ), ('', 'Bole'), \n",
    "#          ('', 'Tamale'), ('', 'Yendi')] \n",
    "# CV_list.columns = pd.MultiIndex.from_tuples(columns)\n",
    "CV_list"
   ]
  },
  {
   "cell_type": "code",
   "execution_count": null,
   "id": "ee06b808-7a8f-48fc-b4bb-61f6c2d7628d",
   "metadata": {
    "jupyter": {
     "source_hidden": true
    },
    "tags": []
   },
   "outputs": [],
   "source": [
    "# li2=[]\n",
    "# for i in range(len(RR_all)):\n",
    "#     vv=Cof_V2(RR_all[i])\n",
    "#     li2.append(vv)\n",
    "\n",
    "# l2=pd.DataFrame(li2[0])\n",
    "# l2['Zuarungu']=li2[1]\n",
    "# l2['Walewale']=li2[2]\n",
    "# l2['Wa']=li2[3]\n",
    "# l2['Bole']=li2[4]\n",
    "# l2['Tamale']=li2[5]\n",
    "# l2['Yendi']=li2[6]\n",
    "# CV_list2=l2.rename(columns={'CV':'Navrongo'})\n",
    "# # columns=[('1960-1990', 'Navrongo'), \n",
    "# #          ('', 'Zuarungu'), \n",
    "# #          ('', 'Walewale'), \n",
    "# #          ('','Wa' ), \n",
    "# #          ('', 'Bole'), \n",
    "# #          ('', 'Tamale'), \n",
    "# #          ('', 'Yendi')] \n",
    "# # CV_list2.columns = pd.MultiIndex.from_tuples(columns)\n",
    "# # # CV_list2"
   ]
  },
  {
   "cell_type": "code",
   "execution_count": null,
   "id": "c2aedc7f-3010-4f05-8e57-215817008741",
   "metadata": {
    "jupyter": {
     "source_hidden": true
    },
    "tags": []
   },
   "outputs": [],
   "source": [
    "# li3=[]\n",
    "# for i in range(len(RR_all)):\n",
    "#     vv=Cof_V3(RR_all[i])\n",
    "#     li3.append(vv)\n",
    "\n",
    "# l3=pd.DataFrame(li3[0])\n",
    "# l3['Zuarungu']=li3[1]\n",
    "# l3['Walewale']=li3[2]\n",
    "# l3['Wa']=li3[3]\n",
    "# l3['Bole']=li3[4]\n",
    "# l3['Tamale']=li3[5]\n",
    "# l3['Yendi']=li3[6]\n",
    "# CV_list3=l3.rename(columns={'CV':'Navrongo'})\n",
    "# # columns=[('1990_2020', 'Navrongo'), ('', 'Zuarungu'), \n",
    "# #          ('', 'Walewale'), \n",
    "# #          ('','Wa' ), \n",
    "# #          ('', 'Bole'), \n",
    "# #          ('', 'Tamale'), ('', 'Yendi')] \n",
    "# # CV_list3.columns = pd.MultiIndex.from_tuples(columns)\n",
    "# # # CV_list3"
   ]
  },
  {
   "cell_type": "code",
   "execution_count": null,
   "id": "a0061db0-51ff-4e18-837d-c4fe4273c47a",
   "metadata": {},
   "outputs": [],
   "source": [
    "# df_styled = CV_list.style.background_gradient() #adding a gradient based on values in cell\n",
    "dfi.export(CV_list,\"Graphs/graphs/CV_1960-2020.jpeg\", table_conversion='matplotlib')"
   ]
  },
  {
   "cell_type": "code",
   "execution_count": null,
   "id": "4028f7f1-3515-4786-96c7-50024aeb7879",
   "metadata": {
    "jupyter": {
     "source_hidden": true
    },
    "tags": []
   },
   "outputs": [],
   "source": [
    "# # df_styled = CV_list2.style.background_gradient() #adding a gradient based on values in cell\n",
    "# dfi.export(CV_list2,\"Graphs/CV_1960-1990.jpeg\", table_conversion='matplotlib')\n"
   ]
  },
  {
   "cell_type": "code",
   "execution_count": null,
   "id": "31ba7a7e-e922-4c3a-915e-34d0081e0e33",
   "metadata": {
    "jupyter": {
     "source_hidden": true
    },
    "tags": []
   },
   "outputs": [],
   "source": [
    "# # df_styled = CV_list3.style.background_gradient() #adding a gradient based on values in cell\n",
    "# dfi.export(CV_list3,\"Graphs/CV_1990-2020.jpeg\", table_conversion='matplotlib')"
   ]
  },
  {
   "cell_type": "markdown",
   "id": "787d2371-6217-4c5f-8a70-4a779af8ffdf",
   "metadata": {
    "tags": []
   },
   "source": [
    "##### SRA Function"
   ]
  },
  {
   "cell_type": "code",
   "execution_count": 5,
   "id": "f7f182ef-a553-4c93-a48c-fabde4f244f6",
   "metadata": {},
   "outputs": [],
   "source": [
    "def SRA(y):\n",
    "    RR = y.Rainfall\n",
    "    RR_df = pd.DataFrame(RR)\n",
    "    RR_df['date']=pd.date_range(start='1980-01-01', end='2020-12-31',freq='M')\n",
    "    RR_df=RR_df.set_index('date')\n",
    "    R=RR_df.sub(RR_df.groupby([RR_df.index.month]).transform('mean'))\n",
    "    std=RR_df.groupby([RR_df.index.month]).transform(np.std)\n",
    "    return(R/std)\n",
    "def SAI(y):\n",
    "    RR = y.Temperature\n",
    "    RR_df = pd.DataFrame(RR)\n",
    "    RR_df['date']=pd.date_range(start='1980-01-01', end='2020-12-31',freq='M')\n",
    "    RR_df=RR_df.set_index('date')\n",
    "    R=RR_df.sub(RR_df.groupby([RR_df.index.month]).transform('mean'))\n",
    "    std=RR_df.groupby([RR_df.index.month]).transform(np.std)\n",
    "    return(R/std)\n",
    "# .groupby([an_tmpmin_df.index.month, an_tmpmin_df.index.month]).transform('mean'))\n",
    "def SRAA(X):\n",
    "    RR = X.Rainfall\n",
    "    RR_df = pd.DataFrame(RR)\n",
    "    RR_df['date']=pd.date_range(start='1980-01-01', freq='M', periods=len(X))\n",
    "    RR_df=RR_df.set_index('date')\n",
    "    R=RR_df.sub(RR_df.groupby([RR_df.index.month]).transform('mean'))\n",
    "    std=RR_df.groupby([RR_df.index.month]).transform(np.std)\n",
    "    tt=R.Rainfall/std.Rainfall\n",
    "    tt=pd.DataFrame(tt)\n",
    "    tt=tt.reset_index()\n",
    "    tt['Month']=X.Month\n",
    "    tt['Year']=X.Year\n",
    "    return(tt)"
   ]
  },
  {
   "cell_type": "code",
   "execution_count": null,
   "id": "2e43a270-824c-43f6-8360-c13bf8faa2ce",
   "metadata": {},
   "outputs": [],
   "source": [
    "    \n",
    "#################### Plot data #############\n",
    "\n",
    "fig, axes = plt.subplots(nrows = 4, ncols = 2, figsize = (15,14))\n",
    "ax = axes.flatten()\n",
    "# cbar_ax = fig.add_axes([0.09, 0.12, 0.02, 0.7])\n",
    "cbar_ax = fig.add_axes([0.54, 0.13, 0.45, 0.03])\n",
    "fig.delaxes(axes[3][1])\n",
    "RR_all=[Navrongo_RR, Zuarungu_RR, Walewale_RR, Wa_RR, Bole_RR, Tamale_RR, Yendi_RR]\n",
    "RR_all_l=['Navrongo', 'Zuarungu', 'Walewale', 'Wa', 'Bole', 'Tamale', 'Yendi']\n",
    "labels=['JAN', 'FEB', 'MAR', 'APR', 'MAY', 'JUN', 'JUL', 'AUG', 'SEP', 'OCT', 'NOV','DEC']\n",
    "\n",
    "for i in range(len(RR_all)):\n",
    "    sns.heatmap(heatmap_pivot(SRAA(RR_all[i]), 'Rainfall', \n",
    "                SRAA(RR_all[i]).Month, SRAA(RR_all[i]).Year),\n",
    "                ax=ax[i], cmap='coolwarm', cbar_ax=cbar_ax, \n",
    "                cbar_kws={'label': ' Standard Rainfall Anomaly Index [ SRAI ]', 'orientation': 'horizontal'})\n",
    "    ax[i].invert_yaxis()\n",
    "    ax[i].set_yticklabels(labels, rotation=45)\n",
    "    ax[i].set_title(RR_all_l[i])\n",
    "    ax[i].set_xlabel('Year')\n",
    "    ax[i].set_ylabel('Month')\n",
    "    plt.suptitle('Standard Rainfall Anomaly', fontsize=17)\n",
    "fig.tight_layout()\n",
    "# plt.savefig('Graphs/graphs/Standard Rainfall Anomaly.JPEG')"
   ]
  },
  {
   "cell_type": "code",
   "execution_count": null,
   "id": "66d97b95-519f-41e5-8f13-5413133edea0",
   "metadata": {},
   "outputs": [],
   "source": []
  },
  {
   "cell_type": "code",
   "execution_count": 18,
   "id": "11f1bc0a-b7ab-43f6-b835-4ce42e87be91",
   "metadata": {
    "tags": []
   },
   "outputs": [
    {
     "data": {
      "text/html": [
       "<div>\n",
       "<style scoped>\n",
       "    .dataframe tbody tr th:only-of-type {\n",
       "        vertical-align: middle;\n",
       "    }\n",
       "\n",
       "    .dataframe tbody tr th {\n",
       "        vertical-align: top;\n",
       "    }\n",
       "\n",
       "    .dataframe thead th {\n",
       "        text-align: right;\n",
       "    }\n",
       "</style>\n",
       "<table border=\"1\" class=\"dataframe\">\n",
       "  <thead>\n",
       "    <tr style=\"text-align: right;\">\n",
       "      <th></th>\n",
       "      <th>date</th>\n",
       "      <th>Rainfall</th>\n",
       "      <th>Month</th>\n",
       "      <th>Year</th>\n",
       "    </tr>\n",
       "  </thead>\n",
       "  <tbody>\n",
       "    <tr>\n",
       "      <th>0</th>\n",
       "      <td>1980-01-31</td>\n",
       "      <td>-0.206428</td>\n",
       "      <td>1</td>\n",
       "      <td>1980</td>\n",
       "    </tr>\n",
       "    <tr>\n",
       "      <th>1</th>\n",
       "      <td>1980-02-29</td>\n",
       "      <td>-0.393272</td>\n",
       "      <td>2</td>\n",
       "      <td>1980</td>\n",
       "    </tr>\n",
       "    <tr>\n",
       "      <th>2</th>\n",
       "      <td>1980-03-31</td>\n",
       "      <td>-0.561914</td>\n",
       "      <td>3</td>\n",
       "      <td>1980</td>\n",
       "    </tr>\n",
       "    <tr>\n",
       "      <th>3</th>\n",
       "      <td>1980-04-30</td>\n",
       "      <td>0.589095</td>\n",
       "      <td>4</td>\n",
       "      <td>1980</td>\n",
       "    </tr>\n",
       "    <tr>\n",
       "      <th>4</th>\n",
       "      <td>1980-05-31</td>\n",
       "      <td>-0.133168</td>\n",
       "      <td>5</td>\n",
       "      <td>1980</td>\n",
       "    </tr>\n",
       "    <tr>\n",
       "      <th>...</th>\n",
       "      <td>...</td>\n",
       "      <td>...</td>\n",
       "      <td>...</td>\n",
       "      <td>...</td>\n",
       "    </tr>\n",
       "    <tr>\n",
       "      <th>487</th>\n",
       "      <td>2020-08-31</td>\n",
       "      <td>-0.429394</td>\n",
       "      <td>8</td>\n",
       "      <td>2020</td>\n",
       "    </tr>\n",
       "    <tr>\n",
       "      <th>488</th>\n",
       "      <td>2020-09-30</td>\n",
       "      <td>1.404779</td>\n",
       "      <td>9</td>\n",
       "      <td>2020</td>\n",
       "    </tr>\n",
       "    <tr>\n",
       "      <th>489</th>\n",
       "      <td>2020-10-31</td>\n",
       "      <td>0.652371</td>\n",
       "      <td>10</td>\n",
       "      <td>2020</td>\n",
       "    </tr>\n",
       "    <tr>\n",
       "      <th>490</th>\n",
       "      <td>2020-11-30</td>\n",
       "      <td>-0.405412</td>\n",
       "      <td>11</td>\n",
       "      <td>2020</td>\n",
       "    </tr>\n",
       "    <tr>\n",
       "      <th>491</th>\n",
       "      <td>2020-12-31</td>\n",
       "      <td>-0.243121</td>\n",
       "      <td>12</td>\n",
       "      <td>2020</td>\n",
       "    </tr>\n",
       "  </tbody>\n",
       "</table>\n",
       "<p>492 rows × 4 columns</p>\n",
       "</div>"
      ],
      "text/plain": [
       "          date  Rainfall  Month  Year\n",
       "0   1980-01-31 -0.206428      1  1980\n",
       "1   1980-02-29 -0.393272      2  1980\n",
       "2   1980-03-31 -0.561914      3  1980\n",
       "3   1980-04-30  0.589095      4  1980\n",
       "4   1980-05-31 -0.133168      5  1980\n",
       "..         ...       ...    ...   ...\n",
       "487 2020-08-31 -0.429394      8  2020\n",
       "488 2020-09-30  1.404779      9  2020\n",
       "489 2020-10-31  0.652371     10  2020\n",
       "490 2020-11-30 -0.405412     11  2020\n",
       "491 2020-12-31 -0.243121     12  2020\n",
       "\n",
       "[492 rows x 4 columns]"
      ]
     },
     "execution_count": 18,
     "metadata": {},
     "output_type": "execute_result"
    }
   ],
   "source": [
    "nav=SRAA(Navrongo_RR)\n",
    "nav"
   ]
  },
  {
   "cell_type": "code",
   "execution_count": 17,
   "id": "5b5ccc15-2aa2-4ddc-b351-49c51c8a39c2",
   "metadata": {},
   "outputs": [
    {
     "data": {
      "text/html": [
       "<div>\n",
       "<style scoped>\n",
       "    .dataframe tbody tr th:only-of-type {\n",
       "        vertical-align: middle;\n",
       "    }\n",
       "\n",
       "    .dataframe tbody tr th {\n",
       "        vertical-align: top;\n",
       "    }\n",
       "\n",
       "    .dataframe thead th {\n",
       "        text-align: right;\n",
       "    }\n",
       "</style>\n",
       "<table border=\"1\" class=\"dataframe\">\n",
       "  <thead>\n",
       "    <tr style=\"text-align: right;\">\n",
       "      <th></th>\n",
       "      <th>date</th>\n",
       "      <th>Rainfall</th>\n",
       "      <th>Month</th>\n",
       "      <th>Year</th>\n",
       "    </tr>\n",
       "    <tr>\n",
       "      <th>Year</th>\n",
       "      <th></th>\n",
       "      <th></th>\n",
       "      <th></th>\n",
       "      <th></th>\n",
       "    </tr>\n",
       "  </thead>\n",
       "  <tbody>\n",
       "    <tr>\n",
       "      <th>1980</th>\n",
       "      <td>1980-01-31</td>\n",
       "      <td>-0.206428</td>\n",
       "      <td>1</td>\n",
       "      <td>1980</td>\n",
       "    </tr>\n",
       "    <tr>\n",
       "      <th>1980</th>\n",
       "      <td>1980-02-29</td>\n",
       "      <td>-0.393272</td>\n",
       "      <td>2</td>\n",
       "      <td>1980</td>\n",
       "    </tr>\n",
       "    <tr>\n",
       "      <th>1980</th>\n",
       "      <td>1980-03-31</td>\n",
       "      <td>-0.561914</td>\n",
       "      <td>3</td>\n",
       "      <td>1980</td>\n",
       "    </tr>\n",
       "    <tr>\n",
       "      <th>1980</th>\n",
       "      <td>1980-04-30</td>\n",
       "      <td>0.589095</td>\n",
       "      <td>4</td>\n",
       "      <td>1980</td>\n",
       "    </tr>\n",
       "    <tr>\n",
       "      <th>1980</th>\n",
       "      <td>1980-05-31</td>\n",
       "      <td>-0.133168</td>\n",
       "      <td>5</td>\n",
       "      <td>1980</td>\n",
       "    </tr>\n",
       "    <tr>\n",
       "      <th>...</th>\n",
       "      <td>...</td>\n",
       "      <td>...</td>\n",
       "      <td>...</td>\n",
       "      <td>...</td>\n",
       "    </tr>\n",
       "    <tr>\n",
       "      <th>2020</th>\n",
       "      <td>2020-08-31</td>\n",
       "      <td>-0.429394</td>\n",
       "      <td>8</td>\n",
       "      <td>2020</td>\n",
       "    </tr>\n",
       "    <tr>\n",
       "      <th>2020</th>\n",
       "      <td>2020-09-30</td>\n",
       "      <td>1.404779</td>\n",
       "      <td>9</td>\n",
       "      <td>2020</td>\n",
       "    </tr>\n",
       "    <tr>\n",
       "      <th>2020</th>\n",
       "      <td>2020-10-31</td>\n",
       "      <td>0.652371</td>\n",
       "      <td>10</td>\n",
       "      <td>2020</td>\n",
       "    </tr>\n",
       "    <tr>\n",
       "      <th>2020</th>\n",
       "      <td>2020-11-30</td>\n",
       "      <td>-0.405412</td>\n",
       "      <td>11</td>\n",
       "      <td>2020</td>\n",
       "    </tr>\n",
       "    <tr>\n",
       "      <th>2020</th>\n",
       "      <td>2020-12-31</td>\n",
       "      <td>-0.243121</td>\n",
       "      <td>12</td>\n",
       "      <td>2020</td>\n",
       "    </tr>\n",
       "  </tbody>\n",
       "</table>\n",
       "<p>492 rows × 4 columns</p>\n",
       "</div>"
      ],
      "text/plain": [
       "           date  Rainfall  Month  Year\n",
       "Year                                  \n",
       "1980 1980-01-31 -0.206428      1  1980\n",
       "1980 1980-02-29 -0.393272      2  1980\n",
       "1980 1980-03-31 -0.561914      3  1980\n",
       "1980 1980-04-30  0.589095      4  1980\n",
       "1980 1980-05-31 -0.133168      5  1980\n",
       "...         ...       ...    ...   ...\n",
       "2020 2020-08-31 -0.429394      8  2020\n",
       "2020 2020-09-30  1.404779      9  2020\n",
       "2020 2020-10-31  0.652371     10  2020\n",
       "2020 2020-11-30 -0.405412     11  2020\n",
       "2020 2020-12-31 -0.243121     12  2020\n",
       "\n",
       "[492 rows x 4 columns]"
      ]
     },
     "execution_count": 17,
     "metadata": {},
     "output_type": "execute_result"
    }
   ],
   "source": [
    "nav=nav.set_index(nav.Year)\n",
    "nav"
   ]
  },
  {
   "cell_type": "code",
   "execution_count": 11,
   "id": "53a40bb3-4b14-43d1-b005-7ac2e634d56a",
   "metadata": {},
   "outputs": [
    {
     "ename": "KeyError",
     "evalue": "'Column not found: 1'",
     "output_type": "error",
     "traceback": [
      "\u001b[0;31m---------------------------------------------------------------------------\u001b[0m",
      "\u001b[0;31mKeyError\u001b[0m                                  Traceback (most recent call last)",
      "Input \u001b[0;32mIn [11]\u001b[0m, in \u001b[0;36m<cell line: 1>\u001b[0;34m()\u001b[0m\n\u001b[0;32m----> 1\u001b[0m \u001b[43mnav\u001b[49m\u001b[43m[\u001b[49m\u001b[38;5;241;43m1\u001b[39;49m\u001b[43m]\u001b[49m\n",
      "File \u001b[0;32m~/miniconda3/lib/python3.9/site-packages/pandas/core/groupby/generic.py:1338\u001b[0m, in \u001b[0;36mDataFrameGroupBy.__getitem__\u001b[0;34m(self, key)\u001b[0m\n\u001b[1;32m   1329\u001b[0m \u001b[38;5;28;01mif\u001b[39;00m \u001b[38;5;28misinstance\u001b[39m(key, \u001b[38;5;28mtuple\u001b[39m) \u001b[38;5;129;01mand\u001b[39;00m \u001b[38;5;28mlen\u001b[39m(key) \u001b[38;5;241m>\u001b[39m \u001b[38;5;241m1\u001b[39m:\n\u001b[1;32m   1330\u001b[0m     \u001b[38;5;66;03m# if len == 1, then it becomes a SeriesGroupBy and this is actually\u001b[39;00m\n\u001b[1;32m   1331\u001b[0m     \u001b[38;5;66;03m# valid syntax, so don't raise warning\u001b[39;00m\n\u001b[1;32m   1332\u001b[0m     warnings\u001b[38;5;241m.\u001b[39mwarn(\n\u001b[1;32m   1333\u001b[0m         \u001b[38;5;124m\"\u001b[39m\u001b[38;5;124mIndexing with multiple keys (implicitly converted to a tuple \u001b[39m\u001b[38;5;124m\"\u001b[39m\n\u001b[1;32m   1334\u001b[0m         \u001b[38;5;124m\"\u001b[39m\u001b[38;5;124mof keys) will be deprecated, use a list instead.\u001b[39m\u001b[38;5;124m\"\u001b[39m,\n\u001b[1;32m   1335\u001b[0m         \u001b[38;5;167;01mFutureWarning\u001b[39;00m,\n\u001b[1;32m   1336\u001b[0m         stacklevel\u001b[38;5;241m=\u001b[39mfind_stack_level(),\n\u001b[1;32m   1337\u001b[0m     )\n\u001b[0;32m-> 1338\u001b[0m \u001b[38;5;28;01mreturn\u001b[39;00m \u001b[38;5;28;43msuper\u001b[39;49m\u001b[43m(\u001b[49m\u001b[43m)\u001b[49m\u001b[38;5;241;43m.\u001b[39;49m\u001b[38;5;21;43m__getitem__\u001b[39;49m\u001b[43m(\u001b[49m\u001b[43mkey\u001b[49m\u001b[43m)\u001b[49m\n",
      "File \u001b[0;32m~/miniconda3/lib/python3.9/site-packages/pandas/core/base.py:250\u001b[0m, in \u001b[0;36mSelectionMixin.__getitem__\u001b[0;34m(self, key)\u001b[0m\n\u001b[1;32m    248\u001b[0m \u001b[38;5;28;01melse\u001b[39;00m:\n\u001b[1;32m    249\u001b[0m     \u001b[38;5;28;01mif\u001b[39;00m key \u001b[38;5;129;01mnot\u001b[39;00m \u001b[38;5;129;01min\u001b[39;00m \u001b[38;5;28mself\u001b[39m\u001b[38;5;241m.\u001b[39mobj:\n\u001b[0;32m--> 250\u001b[0m         \u001b[38;5;28;01mraise\u001b[39;00m \u001b[38;5;167;01mKeyError\u001b[39;00m(\u001b[38;5;124mf\u001b[39m\u001b[38;5;124m\"\u001b[39m\u001b[38;5;124mColumn not found: \u001b[39m\u001b[38;5;132;01m{\u001b[39;00mkey\u001b[38;5;132;01m}\u001b[39;00m\u001b[38;5;124m\"\u001b[39m)\n\u001b[1;32m    251\u001b[0m     subset \u001b[38;5;241m=\u001b[39m \u001b[38;5;28mself\u001b[39m\u001b[38;5;241m.\u001b[39mobj[key]\n\u001b[1;32m    252\u001b[0m     ndim \u001b[38;5;241m=\u001b[39m subset\u001b[38;5;241m.\u001b[39mndim\n",
      "\u001b[0;31mKeyError\u001b[0m: 'Column not found: 1'"
     ]
    }
   ],
   "source": []
  },
  {
   "cell_type": "markdown",
   "id": "99ef4cae-9aab-4fc1-a437-8d485fc2d9af",
   "metadata": {},
   "source": [
    "### Monthly Temperature Values"
   ]
  },
  {
   "cell_type": "markdown",
   "id": "54d1f582-1a81-4823-872a-a65dd5de110e",
   "metadata": {},
   "source": [
    "#### Maximunm Temperature"
   ]
  },
  {
   "cell_type": "code",
   "execution_count": null,
   "id": "fec06b38-f553-4cee-8674-63508b5dde9c",
   "metadata": {},
   "outputs": [],
   "source": [
    "#################### Plot data #############\n",
    "\n",
    "fig, axes = plt.subplots(nrows = 4, ncols = 2, figsize = (15,14))\n",
    "ax = axes.flatten()\n",
    "# cbar_ax = fig.add_axes([0.09, 0.12, 0.02, 0.7])\n",
    "cbar_ax = fig.add_axes([0.54, 0.13, 0.45, 0.03])\n",
    "fig.delaxes(axes[3][1])\n",
    "\n",
    "Tmax=[Navrongo_Tx, Zuarungu_Tx, Walewale_Tx, Wa_Tx, Bole_Tx, Tamale_Tx, Yendi_Tx]\n",
    "Tmax_l=['Navrongo', 'Zuarungu', 'Walewale', 'Wa', 'Bole', 'Tamale', 'Yendi']\n",
    "\n",
    "for i in range(len(RR_all)):\n",
    "    sns.heatmap(heatmap_pivot(Tmax[i], 'Temperature', ['Month'], 'Year'), ax=ax[i], cmap='coolwarm',\n",
    "                cbar_ax=cbar_ax, cbar_kws={'label': 'Temperature [ $^o$C ]', 'orientation': 'horizontal'})\n",
    "    ax[i].invert_yaxis()\n",
    "    ax[i].set_yticklabels(labels, rotation=45)\n",
    "    ax[i].set_title(Tmax_l[i])\n",
    "plt.suptitle('Monthly Maximum Temperature 1980-2020', fontsize=17)\n",
    "fig.tight_layout()\n",
    "plt.savefig('Graphs/graphs/Monthly Maximum Temperature.JPEG')"
   ]
  },
  {
   "cell_type": "markdown",
   "id": "98570861-da16-42d7-9ad9-c69d7e077bc8",
   "metadata": {},
   "source": [
    "#### Monthly Minimum Temperature"
   ]
  },
  {
   "cell_type": "code",
   "execution_count": null,
   "id": "ba7ed27f-6dea-45a9-afd5-ccc7b714afdb",
   "metadata": {},
   "outputs": [],
   "source": [
    "#################### Plot data #############\n",
    "\n",
    "fig, axes = plt.subplots(nrows = 4, ncols = 2, figsize = (15,14))\n",
    "ax = axes.flatten()\n",
    "# cbar_ax = fig.add_axes([0.09, 0.12, 0.02, 0.7])\n",
    "cbar_ax = fig.add_axes([0.54, 0.13, 0.45, 0.03])\n",
    "fig.delaxes(axes[3][1])\n",
    "\n",
    "Tmin=[Navrongo_Tn, Zuarungu_Tn, Walewale_Tx, Wa_Tn, Bole_Tn, Tamale_Tn, Yendi_Tn]\n",
    "Tmin_l=['Navrongo', 'Zuarungu', 'Walewale', 'Wa', 'Bole', 'Tamale', 'Yendi']\n",
    "\n",
    "for i in range(len(RR_all)):\n",
    "    sns.heatmap(heatmap_pivot(Tmin[i], 'Temperature', ['Month'], 'Year'), ax=ax[i], cmap='coolwarm',\n",
    "                cbar_ax=cbar_ax, cbar_kws={'label': ' Temperature [ $^o$C ]', 'orientation': 'horizontal'})\n",
    "    ax[i].invert_yaxis()\n",
    "    ax[i].set_yticklabels(labels, rotation=45)\n",
    "    ax[i].set_title(Tmin_l[i])\n",
    "plt.suptitle('Monthly Minimum Temperature 1980-2020', fontsize=17)\n",
    "fig.tight_layout()\n",
    "plt.savefig('Graphs/graphs/Monthly Minimum Temperature.JPEG')"
   ]
  },
  {
   "cell_type": "markdown",
   "id": "0cc4fa61-62d4-4676-b2b8-5510390e588b",
   "metadata": {},
   "source": [
    "#### Monthly Mean Temperature"
   ]
  },
  {
   "cell_type": "code",
   "execution_count": null,
   "id": "f364898b-aff5-4326-ab55-bcfe187d6e88",
   "metadata": {},
   "outputs": [],
   "source": [
    "#################### Plot data #############\n",
    "\n",
    "fig, axes = plt.subplots(nrows = 4, ncols = 2, figsize = (15,14))\n",
    "ax = axes.flatten()\n",
    "# cbar_ax = fig.add_axes([0.09, 0.12, 0.02, 0.7])\n",
    "cbar_ax = fig.add_axes([0.54, 0.13, 0.45, 0.03])\n",
    "fig.delaxes(axes[3][1])\n",
    "\n",
    "Tmean=[Navrongo_Tm, Zuarungu_Tm, Walewale_Tm, Wa_Tm, Bole_Tm, Tamale_Tm, Yendi_Tm]\n",
    "Tmean_l=['Navrongo', 'Zuarungu', 'Walewale', 'Wa', 'Bole', 'Tamale', 'Yendi']\n",
    "\n",
    "for i in range(len(RR_all)):\n",
    "    sns.heatmap(heatmap_pivot(Tmean[i], 'Temperature', ['Month'], 'Year'), ax=ax[i], cmap='coolwarm',\n",
    "                cbar_ax=cbar_ax, cbar_kws={'label': 'Temperature [ $^o$C ]', 'orientation': 'horizontal'})\n",
    "    ax[i].invert_yaxis()\n",
    "    ax[i].set_yticklabels(labels, rotation=45)\n",
    "    ax[i].set_title(Tmean_l[i])\n",
    "plt.suptitle('Monthly Mean Temperature 1980-2020', fontsize=17)\n",
    "fig.tight_layout()\n",
    "plt.savefig('Graphs/graphs/Monthly Mean Temperature.JPEG')"
   ]
  },
  {
   "cell_type": "markdown",
   "id": "c4e4399d-77bd-4541-8b8e-9344fd36196d",
   "metadata": {},
   "source": [
    "#### SAI"
   ]
  },
  {
   "cell_type": "markdown",
   "id": "1753b479-e2cc-48ea-ac7b-144278cac95d",
   "metadata": {},
   "source": [
    "#### SAI for Maximum Temperature"
   ]
  },
  {
   "cell_type": "code",
   "execution_count": null,
   "id": "7fc24f74-bd2b-4e07-ae5a-0a07c0a5b96a",
   "metadata": {},
   "outputs": [],
   "source": [
    "    \n",
    "#################### Plot data #############\n",
    "\n",
    "fig, axes = plt.subplots(nrows = 4, ncols = 2, figsize = (15,14))\n",
    "ax = axes.flatten()\n",
    "cbar_ax = fig.add_axes([0.54, 0.13, 0.45, 0.03])\n",
    "fig.delaxes(axes[3][1])\n",
    "Tmax=[Navrongo_Tx, Zuarungu_Tx, Walewale_Tx, Wa_Tx, Bole_Tx, Tamale_Tx, Yendi_Tx]\n",
    "Tmax_l=['Navrongo', 'Zuarungu', 'Walewale', 'Wa', 'Bole', 'Tamale', 'Yendi']\n",
    "\n",
    "\n",
    "for i in range(len(RR_all)):\n",
    "    sns.heatmap(heatmap_pivot(SAI(Tmax[i]), 'Temperature', \n",
    "                SAI(Tmax[i]).index.month, SAI(Tmax[i]).index.year), \n",
    "                ax=ax[i], cmap='coolwarm', cbar_ax=cbar_ax, \n",
    "                cbar_kws={'label': ' SAI ', 'orientation': 'horizontal'})\n",
    "\n",
    "    ax[i].invert_yaxis()\n",
    "    ax[i].set_yticklabels(labels, rotation=45)\n",
    "    ax[i].set_title(Tmax_l[i])\n",
    "    ax[i].set_xlabel('Year')\n",
    "    ax[i].set_ylabel('Month')\n",
    "    plt.suptitle('SAI Maximum Temperatures 1980-2020', fontsize=17)\n",
    "fig.tight_layout()\n",
    "plt.savefig('Graphs/graphs/Standard Anomaly for Maximum Temperature.JPEG')"
   ]
  },
  {
   "cell_type": "code",
   "execution_count": null,
   "id": "9ded64ab-2026-4cbd-a093-eb9f610370c2",
   "metadata": {},
   "outputs": [],
   "source": [
    "    \n",
    "#################### Plot data #############\n",
    "\n",
    "fig, axes = plt.subplots(nrows = 4, ncols = 2, figsize = (15,14))\n",
    "ax = axes.flatten()\n",
    "cbar_ax = fig.add_axes([0.54, 0.13, 0.45, 0.03])\n",
    "fig.delaxes(axes[3][1])\n",
    "Tmin=[Navrongo_Tn, Zuarungu_Tn, Walewale_Tn, Wa_Tn, Bole_Tn, Tamale_Tn, Yendi_Tn]\n",
    "Tmin_l=['Navrongo', 'Zuarungu', 'Walewale', 'Wa', 'Bole', 'Tamale', 'Yendi']\n",
    "\n",
    "\n",
    "for i in range(len(Tmin)):\n",
    "    sns.heatmap(heatmap_pivot(SAI(Tmin[i]), 'Temperature', \n",
    "                SAI(Tmin[i]).index.month, SAI(Tmin[i]).index.year), \n",
    "                ax=ax[i], cmap='coolwarm', cbar_ax=cbar_ax, \n",
    "                cbar_kws={'label': ' SAI C', 'orientation': 'horizontal'})\n",
    "\n",
    "    ax[i].invert_yaxis()\n",
    "    ax[i].set_yticklabels(labels, rotation=45)\n",
    "    ax[i].set_title(Tmin_l[i])\n",
    "    ax[i].set_xlabel('Year')\n",
    "    ax[i].set_ylabel('Month')\n",
    "    plt.suptitle('SAI Minimum Temperatures 1980-2020', fontsize=17)\n",
    "fig.tight_layout()\n",
    "plt.savefig('Graphs/graphs/Standard Anomaly for Minimum Temperature.JPEG')"
   ]
  },
  {
   "cell_type": "code",
   "execution_count": null,
   "id": "302feea2-382d-41bf-abfa-634be5a56e32",
   "metadata": {},
   "outputs": [],
   "source": [
    "    \n",
    "#################### Plot data #############\n",
    "\n",
    "fig, axes = plt.subplots(nrows = 4, ncols = 2, figsize = (15,14))\n",
    "ax = axes.flatten()\n",
    "cbar_ax = fig.add_axes([0.54, 0.13, 0.45, 0.03])\n",
    "fig.delaxes(axes[3][1])\n",
    "Tmean=[Navrongo_Tm, Zuarungu_Tm, Walewale_Tm, Wa_Tm, Bole_Tm, Tamale_Tm, Yendi_Tm]\n",
    "Tmean_l=['Navrongo', 'Zuarungu', 'Walewale', 'Wa', 'Bole', 'Tamale', 'Yendi']\n",
    "\n",
    "\n",
    "for i in range(len(Tmean)):\n",
    "    sns.heatmap(heatmap_pivot(SAI(Tmean[i]), 'Temperature', \n",
    "                SAI(Tmean[i]).index.month, SAI(Tmean[i]).index.year), \n",
    "                ax=ax[i], cmap='coolwarm', cbar_ax=cbar_ax, \n",
    "                cbar_kws={'label': ' SAI ', 'orientation': 'horizontal'})\n",
    "\n",
    "    ax[i].invert_yaxis()\n",
    "    ax[i].set_yticklabels(labels, rotation=45)\n",
    "    ax[i].set_title(Tmean_l[i])\n",
    "    ax[i].set_xlabel('Year')\n",
    "    ax[i].set_ylabel('Month')\n",
    "    plt.suptitle('SAI Mean Temperatures 1980-2020', fontsize=20)\n",
    "fig.tight_layout()\n",
    "plt.savefig('Graphs/graphs/Standard Anomaly for Mean Temperature.JPEG')"
   ]
  },
  {
   "cell_type": "code",
   "execution_count": null,
   "id": "4be6b6c3-aae5-4b1e-b95d-74edf2c508e3",
   "metadata": {},
   "outputs": [],
   "source": []
  },
  {
   "cell_type": "code",
   "execution_count": null,
   "id": "c6d70645-fd41-4dc0-b838-f2378b1d124f",
   "metadata": {},
   "outputs": [],
   "source": []
  },
  {
   "cell_type": "code",
   "execution_count": null,
   "id": "5a32e9a9-f98a-4359-ad48-d5c95690de03",
   "metadata": {},
   "outputs": [],
   "source": []
  },
  {
   "cell_type": "code",
   "execution_count": null,
   "id": "e65b9f5e-df1a-4a01-9f09-8911e9614f4b",
   "metadata": {},
   "outputs": [],
   "source": []
  },
  {
   "cell_type": "code",
   "execution_count": null,
   "id": "a9dff240-5e7a-4976-84be-573526447d8b",
   "metadata": {},
   "outputs": [],
   "source": []
  },
  {
   "cell_type": "code",
   "execution_count": null,
   "id": "f522f475-9847-4770-8c3f-0084a5f7487b",
   "metadata": {},
   "outputs": [],
   "source": []
  },
  {
   "cell_type": "code",
   "execution_count": null,
   "id": "92a6d5f8-c9d6-48f2-a026-22bc8b1b858e",
   "metadata": {},
   "outputs": [],
   "source": []
  },
  {
   "cell_type": "code",
   "execution_count": null,
   "id": "be2ff8c7-db6d-4764-a5bb-2d56c0863cc5",
   "metadata": {},
   "outputs": [],
   "source": []
  },
  {
   "cell_type": "code",
   "execution_count": 2,
   "id": "330300b9-01c0-465d-aff1-af5371326849",
   "metadata": {},
   "outputs": [],
   "source": []
  },
  {
   "cell_type": "code",
   "execution_count": 17,
   "id": "c775c854-3d47-4972-8638-010fd8c831d6",
   "metadata": {},
   "outputs": [
    {
     "data": {
      "text/html": [
       "<div>\n",
       "<style scoped>\n",
       "    .dataframe tbody tr th:only-of-type {\n",
       "        vertical-align: middle;\n",
       "    }\n",
       "\n",
       "    .dataframe tbody tr th {\n",
       "        vertical-align: top;\n",
       "    }\n",
       "\n",
       "    .dataframe thead th {\n",
       "        text-align: right;\n",
       "    }\n",
       "</style>\n",
       "<table border=\"1\" class=\"dataframe\">\n",
       "  <thead>\n",
       "    <tr style=\"text-align: right;\">\n",
       "      <th></th>\n",
       "      <th>Year</th>\n",
       "      <th>Month</th>\n",
       "      <th>Day</th>\n",
       "      <th>RR</th>\n",
       "      <th>TX</th>\n",
       "      <th>TN</th>\n",
       "    </tr>\n",
       "  </thead>\n",
       "  <tbody>\n",
       "    <tr>\n",
       "      <th>0</th>\n",
       "      <td>1960</td>\n",
       "      <td>1</td>\n",
       "      <td>1</td>\n",
       "      <td>0.0</td>\n",
       "      <td>33.47</td>\n",
       "      <td>18.00</td>\n",
       "    </tr>\n",
       "    <tr>\n",
       "      <th>1</th>\n",
       "      <td>1960</td>\n",
       "      <td>1</td>\n",
       "      <td>2</td>\n",
       "      <td>0.0</td>\n",
       "      <td>32.83</td>\n",
       "      <td>18.12</td>\n",
       "    </tr>\n",
       "    <tr>\n",
       "      <th>2</th>\n",
       "      <td>1960</td>\n",
       "      <td>1</td>\n",
       "      <td>3</td>\n",
       "      <td>0.0</td>\n",
       "      <td>33.69</td>\n",
       "      <td>18.03</td>\n",
       "    </tr>\n",
       "    <tr>\n",
       "      <th>3</th>\n",
       "      <td>1960</td>\n",
       "      <td>1</td>\n",
       "      <td>4</td>\n",
       "      <td>0.0</td>\n",
       "      <td>34.08</td>\n",
       "      <td>18.04</td>\n",
       "    </tr>\n",
       "    <tr>\n",
       "      <th>4</th>\n",
       "      <td>1960</td>\n",
       "      <td>1</td>\n",
       "      <td>5</td>\n",
       "      <td>0.0</td>\n",
       "      <td>35.35</td>\n",
       "      <td>19.02</td>\n",
       "    </tr>\n",
       "    <tr>\n",
       "      <th>...</th>\n",
       "      <td>...</td>\n",
       "      <td>...</td>\n",
       "      <td>...</td>\n",
       "      <td>...</td>\n",
       "      <td>...</td>\n",
       "      <td>...</td>\n",
       "    </tr>\n",
       "    <tr>\n",
       "      <th>22276</th>\n",
       "      <td>2020</td>\n",
       "      <td>12</td>\n",
       "      <td>27</td>\n",
       "      <td>0.0</td>\n",
       "      <td>34.86</td>\n",
       "      <td>20.38</td>\n",
       "    </tr>\n",
       "    <tr>\n",
       "      <th>22277</th>\n",
       "      <td>2020</td>\n",
       "      <td>12</td>\n",
       "      <td>28</td>\n",
       "      <td>0.0</td>\n",
       "      <td>34.59</td>\n",
       "      <td>20.34</td>\n",
       "    </tr>\n",
       "    <tr>\n",
       "      <th>22278</th>\n",
       "      <td>2020</td>\n",
       "      <td>12</td>\n",
       "      <td>29</td>\n",
       "      <td>0.0</td>\n",
       "      <td>34.43</td>\n",
       "      <td>20.11</td>\n",
       "    </tr>\n",
       "    <tr>\n",
       "      <th>22279</th>\n",
       "      <td>2020</td>\n",
       "      <td>12</td>\n",
       "      <td>30</td>\n",
       "      <td>0.0</td>\n",
       "      <td>35.41</td>\n",
       "      <td>19.64</td>\n",
       "    </tr>\n",
       "    <tr>\n",
       "      <th>22280</th>\n",
       "      <td>2020</td>\n",
       "      <td>12</td>\n",
       "      <td>31</td>\n",
       "      <td>0.0</td>\n",
       "      <td>35.65</td>\n",
       "      <td>99.90</td>\n",
       "    </tr>\n",
       "  </tbody>\n",
       "</table>\n",
       "<p>22281 rows × 6 columns</p>\n",
       "</div>"
      ],
      "text/plain": [
       "       Year  Month  Day   RR     TX     TN\n",
       "0      1960      1    1  0.0  33.47  18.00\n",
       "1      1960      1    2  0.0  32.83  18.12\n",
       "2      1960      1    3  0.0  33.69  18.03\n",
       "3      1960      1    4  0.0  34.08  18.04\n",
       "4      1960      1    5  0.0  35.35  19.02\n",
       "...     ...    ...  ...  ...    ...    ...\n",
       "22276  2020     12   27  0.0  34.86  20.38\n",
       "22277  2020     12   28  0.0  34.59  20.34\n",
       "22278  2020     12   29  0.0  34.43  20.11\n",
       "22279  2020     12   30  0.0  35.41  19.64\n",
       "22280  2020     12   31  0.0  35.65  99.90\n",
       "\n",
       "[22281 rows x 6 columns]"
      ]
     },
     "execution_count": 17,
     "metadata": {},
     "output_type": "execute_result"
    }
   ],
   "source": []
  },
  {
   "cell_type": "code",
   "execution_count": null,
   "id": "b7495743-8c18-4f62-b759-1314ce6b8618",
   "metadata": {},
   "outputs": [],
   "source": [
    "def Rcli_data(RR,TX,TN):\n",
    "    RR.loc[RR['RR'] == 9.9, 'RR']= -99.9\n",
    "    TX.loc[TX['TX'] == 9.9, 'TX']= -99.9\n",
    "    TN.loc[TN['TN'] == 9.9, 'TN']= -99.9\n",
    "    data = pd.DataFrame(RR)\n",
    "    data['TX'] = TX['TX']\n",
    "    data['TN'] = TN['TN']\n",
    "    Station = data\n",
    "    return Station.to_csv('/media/kenz/DISK/Data for publications/Rclim_data/' + str(input()) +'.txt', sep=' ', index=False, header=False)"
   ]
  },
  {
   "cell_type": "code",
   "execution_count": null,
   "id": "0a6692af-3b5a-4234-a15a-66e7d1396822",
   "metadata": {},
   "outputs": [],
   "source": []
  },
  {
   "cell_type": "code",
   "execution_count": 25,
   "id": "b2233aa5-1b7c-4aab-bfc1-57bf865b0fda",
   "metadata": {},
   "outputs": [
    {
     "data": {
      "text/plain": [
       "[<matplotlib.lines.Line2D at 0x7f2a7115ddf0>]"
      ]
     },
     "execution_count": 25,
     "metadata": {},
     "output_type": "execute_result"
    },
    {
     "data": {
      "image/png": "[encoded data removed]",
      "text/plain": [
       "<Figure size 432x288 with 1 Axes>"
      ]
     },
     "metadata": {
      "needs_background": "light"
     },
     "output_type": "display_data"
    }
   ],
   "source": [
    "import matplotlib.pyplot as plt\n",
    "plt.plot(Bole_sgf.Year, Bole_sgf.RR)"
   ]
  },
  {
   "cell_type": "code",
   "execution_count": 38,
   "id": "e559e24b-98c3-4da6-8fe4-b95eded6620d",
   "metadata": {},
   "outputs": [
    {
     "data": {
      "text/plain": [
       "[<matplotlib.lines.Line2D at 0x7f2a6f090fa0>]"
      ]
     },
     "execution_count": 38,
     "metadata": {},
     "output_type": "execute_result"
    },
    {
     "data": {
      "image/png": "[encoded data removed]",
      "text/plain": [
       "<Figure size 432x288 with 1 Axes>"
      ]
     },
     "metadata": {
      "needs_background": "light"
     },
     "output_type": "display_data"
    }
   ],
   "source": [
    "plt.plot(Wa_sgf.Year, Wa_sgf.RR)"
   ]
  },
  {
   "cell_type": "code",
   "execution_count": 41,
   "id": "8523fb54-9752-43af-a6ab-d5ab4a9583ef",
   "metadata": {},
   "outputs": [
    {
     "data": {
      "text/plain": [
       "[<matplotlib.lines.Line2D at 0x7f2a6ec63700>]"
      ]
     },
     "execution_count": 41,
     "metadata": {},
     "output_type": "execute_result"
    },
    {
     "data": {
      "image/png": "[encoded data removed]",
      "text/plain": [
       "<Figure size 432x288 with 1 Axes>"
      ]
     },
     "metadata": {
      "needs_background": "light"
     },
     "output_type": "display_data"
    }
   ],
   "source": [
    "plt.plot(Navrongo_sgf.Year, Navrongo_sgf.RR)"
   ]
  },
  {
   "cell_type": "code",
   "execution_count": 44,
   "id": "17636318-0caa-4d2c-8a29-7514b732cf1e",
   "metadata": {},
   "outputs": [
    {
     "data": {
      "text/plain": [
       "Year     2020.00\n",
       "Month      12.00\n",
       "Day        31.00\n",
       "RR          9.99\n",
       "dtype: float64"
      ]
     },
     "execution_count": 44,
     "metadata": {},
     "output_type": "execute_result"
    }
   ],
   "source": [
    "Navrongo_sgf.max()"
   ]
  },
  {
   "cell_type": "code",
   "execution_count": null,
   "id": "b82fffd1-dca8-4294-80a1-e9862ac44647",
   "metadata": {},
   "outputs": [],
   "source": []
  }
 ],
 "metadata": {
  "kernelspec": {
   "display_name": "Python 3 (ipykernel)",
   "language": "python",
   "name": "python3"
  },
  "language_info": {
   "codemirror_mode": {
    "name": "ipython",
    "version": 3
   },
   "file_extension": ".py",
   "mimetype": "text/x-python",
   "name": "python",
   "nbconvert_exporter": "python",
   "pygments_lexer": "ipython3",
   "version": "3.9.12"
  }
 },
 "nbformat": 4,
 "nbformat_minor": 5
}
